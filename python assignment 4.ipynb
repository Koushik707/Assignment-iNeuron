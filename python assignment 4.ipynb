{
 "cells": [
  {
   "cell_type": "markdown",
   "metadata": {},
   "source": [
    "# 1.1 Write a Python Program(with class concepts) to find the area of the triangle using the below formula. \n",
    "# area = (s*(s-a)*(s-b)*(s-c)) *** 0.5 \n",
    "# Function to take the length of the sides of triangle from user should be defined in the parent class and function to calculate the area should be defined in subclass.\n"
   ]
  },
  {
   "cell_type": "code",
   "execution_count": 59,
   "metadata": {},
   "outputs": [
    {
     "name": "stdout",
     "output_type": "stream",
     "text": [
      "Enter the sides of the trangle:10 20 20\n",
      "The area of the triangle is: 96.82458365518542\n"
     ]
    }
   ],
   "source": [
    "class Triangle:\n",
    "    def sides(self):\n",
    "        a,b,c=map(float,input('Enter the sides of the trangle:').split())\n",
    "        self.s1=a\n",
    "        self.s2=b\n",
    "        self.s3=c\n",
    "\n",
    "        \n",
    "class AreaTriangle(Triangle):\n",
    "    def calculate_area(self):\n",
    "        super().sides()\n",
    "        s=(self.s1+self.s2+self.s3)/2\n",
    "        area=(s*(s-self.s1)*(s-self.s2)*(s-self.s3))**0.5\n",
    "        \n",
    "        if area==0 or type(area)==complex:\n",
    "            return f'Triangle is not possible'\n",
    "        return f'The area of the triangle is: {area}'\n",
    "     \n",
    "        \n",
    "\n",
    "t1=AreaTriangle()\n",
    "print(t1.calculate_area())\n"
   ]
  },
  {
   "cell_type": "markdown",
   "metadata": {},
   "source": [
    "# 1.2 Write a function filter_long_words() that takes a list of words and an integer n and returns the list of words that are longer than n."
   ]
  },
  {
   "cell_type": "code",
   "execution_count": 20,
   "metadata": {},
   "outputs": [
    {
     "name": "stdout",
     "output_type": "stream",
     "text": [
      "Enter a list of words:banana banana mango peach strawberry pomegranate guava mango\n"
     ]
    },
    {
     "data": {
      "text/plain": [
       "['banana', 'strawberry', 'pomegranate']"
      ]
     },
     "execution_count": 20,
     "metadata": {},
     "output_type": "execute_result"
    }
   ],
   "source": [
    "def filter_long_words(words,n):\n",
    "    return [word for word in list(dict.fromkeys(words)) if len(word)>n]\n",
    "\n",
    "filter_long_words(list(map(str,input('Enter a list of words:').split())),5)"
   ]
  },
  {
   "cell_type": "markdown",
   "metadata": {},
   "source": [
    "# 2.1 Write a Python program using function concept that maps list of words into a list of integers representing the lengths of the corresponding words. \n",
    "# Hint: If a list [ ab,cde,erty] is passed on to the python function output should come as [2,3,4] \n",
    "# Here 2,3 and 4 are the lengths of the words in the list. \n"
   ]
  },
  {
   "cell_type": "code",
   "execution_count": 22,
   "metadata": {},
   "outputs": [
    {
     "name": "stdout",
     "output_type": "stream",
     "text": [
      "Enter a list of words:i love python programming language\n"
     ]
    },
    {
     "data": {
      "text/plain": [
       "[1, 4, 6, 11, 8]"
      ]
     },
     "execution_count": 22,
     "metadata": {},
     "output_type": "execute_result"
    }
   ],
   "source": [
    "def lenghts(words):\n",
    "    return [len(word) for word in words]\n",
    "\n",
    "lenghts(list(map(str,input('Enter a list of words:').split())))"
   ]
  },
  {
   "cell_type": "markdown",
   "metadata": {},
   "source": [
    "# 2.2 Write a Python function which takes a character (i.e. a string of length 1) and returns True if it is a vowel, False otherwise."
   ]
  },
  {
   "cell_type": "code",
   "execution_count": 29,
   "metadata": {},
   "outputs": [
    {
     "name": "stdout",
     "output_type": "stream",
     "text": [
      "Enter a character:M\n"
     ]
    },
    {
     "data": {
      "text/plain": [
       "False"
      ]
     },
     "execution_count": 29,
     "metadata": {},
     "output_type": "execute_result"
    }
   ],
   "source": [
    "def is_vowel(character):\n",
    "    return character in ['a','e','i','o','u']\n",
    "\n",
    "is_vowel(input('Enter a character:').lower())"
   ]
  }
 ],
 "metadata": {
  "kernelspec": {
   "display_name": "Python 3",
   "language": "python",
   "name": "python3"
  },
  "language_info": {
   "codemirror_mode": {
    "name": "ipython",
    "version": 3
   },
   "file_extension": ".py",
   "mimetype": "text/x-python",
   "name": "python",
   "nbconvert_exporter": "python",
   "pygments_lexer": "ipython3",
   "version": "3.7.5"
  }
 },
 "nbformat": 4,
 "nbformat_minor": 4
}
