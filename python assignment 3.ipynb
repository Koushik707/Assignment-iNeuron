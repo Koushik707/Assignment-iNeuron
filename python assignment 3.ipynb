{
 "cells": [
  {
   "cell_type": "markdown",
   "metadata": {},
   "source": [
    "# 1.1 Write a Python Program to implement your own myreduce() function which works exactly like Python's built-in function reduce() \n"
   ]
  },
  {
   "cell_type": "code",
   "execution_count": 19,
   "metadata": {},
   "outputs": [
    {
     "name": "stdout",
     "output_type": "stream",
     "text": [
      "15\n",
      "-13\n",
      "120\n",
      "0.008333333333333333\n"
     ]
    }
   ],
   "source": [
    "def myreduce(function, iterable):\n",
    "    lst=iter(iterable)\n",
    "    value=next(lst)\n",
    "    \n",
    "    for i in lst:\n",
    "        value=function(value,i)\n",
    "    return value\n",
    "\n",
    "a=[1,2,3,4,5]\n",
    "print(myreduce(lambda a,b:a+b,a))\n",
    "\n",
    "print(myreduce(lambda a,b:a-b,a))\n",
    "\n",
    "print(myreduce(lambda a,b:a*b,a))\n",
    "\n",
    "print(myreduce(lambda a,b:a/b,a))"
   ]
  },
  {
   "cell_type": "markdown",
   "metadata": {},
   "source": [
    "# 1.2 Write a Python program to implement your own myfilter() function which works exactly like Python's built-in function filter()"
   ]
  },
  {
   "cell_type": "code",
   "execution_count": 34,
   "metadata": {},
   "outputs": [
    {
     "name": "stdout",
     "output_type": "stream",
     "text": [
      "<list_iterator object at 0x7f310cf0b910>\n",
      "['a', 'e']\n"
     ]
    }
   ],
   "source": [
    "def fun(i):\n",
    "    l=['a','e','i','o','u']\n",
    "    if i in l:\n",
    "        return True\n",
    "    else:\n",
    "        return False\n",
    "    \n",
    "def myfilter(function,iterable):\n",
    "    lst=iter(iterable)\n",
    "    filtered=[]\n",
    "    for i in lst:\n",
    "        if function(i):\n",
    "            filtered.append(i)\n",
    "    return iter(filtered)    \n",
    "\n",
    "\n",
    "f=myfilter(fun,'abce')\n",
    "print(f)\n",
    "print(list(f))"
   ]
  },
  {
   "cell_type": "markdown",
   "metadata": {},
   "source": [
    "# 2. Implement List comprehensions to produce the following lists. \n",
    "# Write List comprehensions to produce the following Lists \n",
    "# ['x', 'xx', 'xxx', 'xxxx', 'y', 'yy', 'yyy', 'yyyy', 'z', 'zz', 'zzz', 'zzzz'] \n",
    "# ['x', 'y', 'z', 'xx', 'yy', 'zz', 'xxx', 'yyy', 'zzz', 'xxxx', 'yyyy', 'zzzz'] \n",
    "# [[2], [3], [4], [3], [4], [5], [4], [5], [6]]\n",
    "# [[2, 3, 4, 5], [3, 4, 5, 6], [4,5,6,7],[5,6,7,8]]\n",
    "# [(1,1),(2,1),(3,1),(1,2),(2,2),(3,2),(1,3),(2,3),(3,3)]\n"
   ]
  },
  {
   "cell_type": "code",
   "execution_count": 55,
   "metadata": {},
   "outputs": [
    {
     "name": "stdout",
     "output_type": "stream",
     "text": [
      "['x', 'xx', 'xxx', 'xxxx', 'y', 'yy', 'yyy', 'yyyy', 'z', 'zz', 'zzz', 'zzzz']\n",
      "['x', 'y', 'z', 'xx', 'yy', 'zz', 'xxx', 'yyy', 'zzz', 'xxxx', 'yyyy', 'zzzz']\n",
      "[[2], [3], [4], [3], [4], [5], [4], [5], [6]]\n",
      "[[2, 3, 4, 5], [3, 4, 5, 6], [4, 5, 6, 7], [5, 6, 7, 8]]\n",
      "[(1, 1), (2, 1), (3, 1), (1, 2), (2, 2), (3, 2), (1, 3), (2, 3), (3, 3)]\n"
     ]
    }
   ],
   "source": [
    "l=['x','y','z']\n",
    "l2=[2,3,4,5,6]\n",
    "x=[i*j for i in l for j in range(1,5)]\n",
    "print(x)\n",
    "\n",
    "y=[i*j for i in range(1,5) for j in l]\n",
    "print(y)\n",
    "\n",
    "z=[[l2[j]] for i in range(0,3) for j in range(i,i+3)]\n",
    "print(z)\n",
    "\n",
    "b=[[j for j in range(2+i, 6+i)] for i in range(4)]\n",
    "print(b)\n",
    "\n",
    "a=[(j,i) for i in range(1,4) for j in range(1,4)]\n",
    "print(a)"
   ]
  }
 ],
 "metadata": {
  "kernelspec": {
   "display_name": "Python 3",
   "language": "python",
   "name": "python3"
  },
  "language_info": {
   "codemirror_mode": {
    "name": "ipython",
    "version": 3
   },
   "file_extension": ".py",
   "mimetype": "text/x-python",
   "name": "python",
   "nbconvert_exporter": "python",
   "pygments_lexer": "ipython3",
   "version": "3.7.5"
  }
 },
 "nbformat": 4,
 "nbformat_minor": 4
}
